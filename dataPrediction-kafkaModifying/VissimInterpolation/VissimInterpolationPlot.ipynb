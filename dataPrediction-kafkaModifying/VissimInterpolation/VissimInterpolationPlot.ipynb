{
 "cells": [
  {
   "cell_type": "code",
   "execution_count": 5,
   "id": "15d0065c",
   "metadata": {},
   "outputs": [
    {
     "data": {
      "image/png": "[encoded data removed]",
      "text/plain": [
       "<Figure size 432x288 with 1 Axes>"
      ]
     },
     "metadata": {
      "needs_background": "light"
     },
     "output_type": "display_data"
    }
   ],
   "source": [
    "import numpy as np\n",
    "import seaborn as sns; sns.set()\n",
    "import matplotlib.pyplot as plt\n",
    "%matplotlib inline\n",
    "\n",
    "originalPoints = np.asarray([[1,2,3,4,5,6],[2,4,6,8,10,12]])\n",
    "newPoints = np.asarray([[1,2,3,4,5,6],[2,4,6,8,10,12]]) + 20\n",
    "plt.scatter(originalPoints[0,:],originalPoints[1,:], color='red');\n",
    "plt.scatter(newPoints[0,:],newPoints[1,:], color='blue');\n",
    "\n",
    "\n",
    "import matplotlib.animation as animation\n",
    "\n",
    "def update_plot(t):\n",
    "    interpolation = originalPoints*(1-t) + newPoints*t\n",
    "    scat.set_offsets(interpolation.T)\n",
    "    return scat,\n",
    "\n",
    "fig = plt.gcf()\n",
    "plt.scatter(originalPoints[0,:],originalPoints[1,:], color='red')\n",
    "plt.scatter(newPoints[0,:],newPoints[1,:], color='blue')\n",
    "scat = plt.scatter([], [], color='green')\n",
    "animation.FuncAnimation(fig, update_plot, frames=np.arange(0, 1, 0.01))\n",
    "plt.show()"
   ]
  },
  {
   "cell_type": "code",
   "execution_count": null,
   "id": "3b040ffd",
   "metadata": {},
   "outputs": [],
   "source": []
  }
 ],
 "metadata": {
  "kernelspec": {
   "display_name": "Python 3.9.12 ('base')",
   "language": "python",
   "name": "python3"
  },
  "language_info": {
   "codemirror_mode": {
    "name": "ipython",
    "version": 3
   },
   "file_extension": ".py",
   "mimetype": "text/x-python",
   "name": "python",
   "nbconvert_exporter": "python",
   "pygments_lexer": "ipython3",
   "version": "3.9.12"
  },
  "vscode": {
   "interpreter": {
    "hash": "20dff6839175c17d6a2ae0ab12bc7a23207af1635be93ee18b48239ac42f48be"
   }
  }
 },
 "nbformat": 4,
 "nbformat_minor": 5
}
